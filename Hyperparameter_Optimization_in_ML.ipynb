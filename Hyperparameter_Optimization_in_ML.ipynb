{
 "cells": [
  {
   "cell_type": "markdown",
   "metadata": {},
   "source": [
    "# Hyperparameter Optimization in Machine Learning Models\n",
    "This tutorial covers what a parameter and a hyperparameter are in a machine learning model along with why it is vital in order to enhance your model’s performance.\n",
    "Machine learning involves predicting and classifying data and to do so, you employ various machine learning models according to the dataset. Machine learning models are **parameterized** so that their behavior can be **tuned** for a given problem. These models can have many parameters and finding the best combination of parameters can be treated as a search problem. But this very term called parameter may appear unfamiliar to you if you are new to applied machine learning. But don’t worry! You will get to know about it in the very first place of this blog, and you will also discover what the difference between a **parameter** and a **hyperparameter** of a machine learning model is. This blog consists of following sections:\n",
    "\n",
    "- What are a parameter and a hyperparameter in a machine learning model?\n",
    "- Why hyperparameter optimization/tuning is vital in order to enhance your model’s performance?\n",
    "- Two simple strategies to optimize/tune the hyperparameters\n",
    "- A simple case study in Python with the two strategies\n",
    "\n",
    "Let’s straight jump into the first section!"
   ]
  },
  {
   "cell_type": "markdown",
   "metadata": {},
   "source": [
    "## What is a parameter in a machine learning learning model?\n",
    "A model parameter is a **configuration variable** that is internal to the model and whose value can be estimated from the given data.\n",
    "\n",
    "- They are required by the model when making predictions.\n",
    "- Their values define the skill of the model on your problem.\n",
    "- They are estimated or learned from data.\n",
    "- They are often not set manually by the practitioner.\n",
    "- They are often saved as part of the learned model.\n",
    "\n",
    "So your main take away from the above points should be parameters are crucial to machine learning algorithms. Also, they are the part of the model that is **learned from historical training data**. Let’s dig it a bit deeper. Think of the function parameters that you use while programming in general. You may pass a parameter to a function. In this case, a parameter is a function argument that could have one of a range of values. In machine learning, the specific model you are using is the function and requires parameters in order to make a prediction on new data. Whether a model has a fixed or variable number of parameters determines whether it may be referred to as “parametric” or “nonparametric“. \n",
    "\n",
    "Some examples of model parameters include:\n",
    "- The weights in an artificial neural network.\n",
    "- The support vectors in a support vector machine.\n",
    "- The coefficients in a linear regression or logistic regression.\n",
    "\n",
    "__NOTE__: Determining the best set of parameters is the essential step of training __any__ machine learning models. As you saw before, using the same modeling technique and the same training data, the model performance can be different - that is because that different parameters are learnt."
   ]
  },
  {
   "cell_type": "markdown",
   "metadata": {},
   "source": [
    "## What is a hyperparameter in a machine learning learning model?\n",
    "A model hyperparameter is a configuration that is __external__ to the model and whose value __cannot be estimated__ from data.\n",
    "\n",
    "- They are often used in processes to help estimate model parameters.\n",
    "- They are often specified by the practitioner (manually).\n",
    "- They can often be set using heuristics (rules-of-thumb).\n",
    "- They are often tuned for a given predictive modeling problem (problem-specific).\n",
    "\n",
    "You cannot know the best value for a model hyperparameter on a given problem. You may use:\n",
    "1. rules of thumb, \n",
    "2. copy values used on other issues, \n",
    "3. or search for the best value by trial and error. \n",
    "\n",
    "When a machine learning algorithm is tuned for a specific problem then essentially you are tuning the hyperparameters of the model to discover the parameters of the model that result in the most skillful predictions. \n",
    "\n",
    "According to a very popular book called “Applied Predictive Modelling” - “Many models have important parameters which cannot be directly estimated from the data. For example, in the K-nearest neighbor classification model … This type of model parameter is referred to as a tuning parameter because there is no analytical formula available to calculate an appropriate value.” \n",
    "\n",
    "Model hyperparameters are often referred to as model parameters which can make things confusing. A good rule of thumb to overcome this confusion is as follows: “If you have to specify a model parameter **manually**, then it is probably a model hyperparameter. ” Some examples of model hyperparameters include:\n",
    "\n",
    "- The learning rate for training a neural network.\n",
    "- The C and sigma hyperparameters for support vector machines.\n",
    "- The k in k-nearest neighbors.\n",
    "\n",
    "In the next section, you will discover the importance of the right set of hyperparameter values in a machine learning model."
   ]
  },
  {
   "cell_type": "markdown",
   "metadata": {},
   "source": [
    "## Importance of the right set of hyperparameter values in a machine learning model:\n",
    "\n",
    "The best way to think about hyperparameters is like the settings of an algorithm that can be adjusted to optimize performance, just as you might *turn the knobs of an AM radio to get a clear signal*. When creating a machine learning model, you'll be presented with design choices as to how to define your model architecture. Often, you don't immediately know what the **optimal** model architecture should be for a given model, and thus you'd like to be able to explore a range of possibilities. In a true machine learning fashion, you’ll ideally ask the machine to perform this exploration and select the optimal model architecture automatically.\n",
    "\n",
    "__NOTE__: Do not forget feature engineering, aside from hyperparameter optimization, is another way of tweaking models for better performances.\n",
    "\n",
    "You will see in the case study section on how the right choice of hyperparameter values affect the performance of a machine learning model. In this context, choosing the right set of values is typically known as “Hyperparameter optimization” or “Hyperparameter tuning”."
   ]
  },
  {
   "cell_type": "markdown",
   "metadata": {},
   "source": [
    "## Two simple strategies to optimize/tune the hyperparameters:\n",
    "\n",
    "Models can have many hyperparameters and finding the best combination of parameters can be treated as a search problem.\n",
    "\n",
    "Although there are many hyperparameter optimization/tuning algorithms now, this post discusses two simple strategies: 1. grid search and \n",
    "2. Random Search.\n",
    "\n",
    "### Grid searching of hyperparameters:\n",
    "Grid search is an approach to hyperparameter tuning that will methodically build and evaluate a model for each combination of algorithm parameters specified in a grid. \n",
    "\n",
    "Let’s consider the following example: \n",
    "\n",
    "Suppose, a machine learning model `X` takes hyperparameters `a1`, `a2` and `a3.` In grid searching, you first define the range of values for each of the hyperparameters `a1`, `a2` and `a3`. You can think of this as an array of values for each of the hyperparameters. __NOTE__ that the ranges are usually heuristic. Now the grid search technique will construct many versions of `X` with all the possible combinations of hyperparameter (`a1`, `a2` and `a3`) values that you defined in the first place. This range of hyperparameter values is referred to as the grid. \n",
    "\n",
    "Suppose, you defined the grid as - __Note__ that usually the range of a hyperparameter is NOT continuous:\n",
    "`a1 = [0,1,2,3,4,5]`\n",
    "`a2 = [10,20,30,40,5,60]`\n",
    "`a3 = [105,105,110,115,120,125]`\n",
    "\n",
    "Note that, the array of values of that you are defining for the hyperparameters has to be legitimate in a sense that you cannot supply Floating type values to the array if the hyperparameter only takes Integer values.\n",
    "\n",
    "Now, grid search will begin its process of constructing several versions of X with the grid that you just defined.\n",
    "\n",
    "It will start with the combination of `[0,10,105]`, and it will end with `[5,60,125]`. It will go through all the intermediate combinations between these two which makes grid search computationally very expensive.\n",
    "\n",
    "Let’s take a look at the other search technique Random search:\n",
    "\n",
    "### Random searching of hyperparameters:\n",
    "The idea of random searching of hyperparameters was proposed by James Bergstra & Yoshua Bengio. You can check the original paper [here](http://www.jmlr.org/papers/volume13/bergstra12a/bergstra12a.pdf).\n",
    "\n",
    "Random search differs from a grid search. In that you longer provide a discrete set of values to explore for each hyperparameter; rather, you provide a statistical distribution for each hyperparameter from which values may be randomly sampled.\n",
    "\n",
    "Before going any further, let’s understand what distribution and sampling mean:\n",
    "\n",
    "In Statistics, by distribution, it is essentially meant an arrangement of values of a variable showing their observed or theoretical frequency of occurrence.\n",
    "\n",
    "On the other hand, Sampling is a term used in statistics. It is the process of choosing a representative sample from a target population and collecting data from that sample in order to understand something about the population as a whole.\n",
    "\n",
    "Now let's again get back to the concept of random search.\n",
    "\n",
    "You’ll define a sampling distribution for each hyperparameter. You can also define how many iterations you’d like to build when searching for the optimal model. For each iteration, the hyperparameter values of the model will be set by sampling the defined distributions. One of the primary theoretical backings to motivate the use of a random search in place of grid search is the fact that for most cases, hyperparameters are __not equally important__. According to the original paper:\n",
    "\n",
    "“*….for most datasets only a few of the hyper-parameters really matter, but that different hyper-parameters are important on different datasets. This phenomenon makes grid search a poor choice for configuring algorithms for new datasets.*”\n",
    "\n",
    "In the following figure, we're searching over a hyperparameter space where the one hyperparameter has significantly more influence on optimizing the model score - the distributions shown on each axis represent the model's score. In each case, we're evaluating `9` different models. The grid search strategy blatantly misses the optimal model and spends redundant time exploring the unimportant parameter. During this grid search, we isolated each hyperparameter and searched for the best possible value while holding all other hyperparameters constant. For cases where the hyperparameter being studied has little effect on the resulting model score, this results in wasted effort. Conversely, the random search has much improved exploratory power and can focus on finding the optimal value for the critical hyperparameter.\n",
    "\n",
    "<img src = 'http://res.cloudinary.com/dyd911kmh/image/upload/f_auto,q_auto:best/v1531340388/grid_vs_random_jltknd.png' />\n",
    "\n",
    "Source: [Random Search for Hyper-Parameter Optimization](http://www.jmlr.org/papers/volume13/bergstra12a/bergstra12a.pdf)\n",
    "\n",
    "In the following sections, you will see grid search and random search in action with Python. You will also be able to decide which is better regarding the effectiveness and efficiency."
   ]
  },
  {
   "cell_type": "markdown",
   "metadata": {},
   "source": [
    "## Case study in Python:\n",
    "\n",
    "Hyperparameter tuning is a final step in the process of applied machine learning before presenting results.\n",
    "\n",
    "You will use the Pima Indian diabetes dataset. The dataset corresponds to a classification problem on which you need to make predictions on the basis of whether a person is to suffer diabetes given the `8` features in the dataset. You can find the complete description of the dataset [here](https://www.kaggle.com/uciml/pima-indians-diabetes-database).\n",
    "\n",
    "There are a total of `768` observations in the dataset. Your first task is to load the dataset so that you can proceed. But before that let's import the dependencies you are going to need."
   ]
  },
  {
   "cell_type": "code",
   "execution_count": null,
   "metadata": {
    "collapsed": true
   },
   "outputs": [],
   "source": [
    "# Dependencies\n",
    "\n",
    "import pandas as pd\n",
    "import numpy as np\n",
    "from sklearn.linear_model import LogisticRegression"
   ]
  },
  {
   "cell_type": "markdown",
   "metadata": {},
   "source": [
    "Now that the dependencies are imported let's load Pima Indians dataset into a Dataframe object with the famous `Pandas` library."
   ]
  },
  {
   "cell_type": "code",
   "execution_count": null,
   "metadata": {
    "collapsed": true
   },
   "outputs": [],
   "source": [
    "data = pd.read_csv(\"./data/diabetes.csv\")"
   ]
  },
  {
   "cell_type": "markdown",
   "metadata": {},
   "source": [
    "The dataset is successfully loaded into the Dataframe object data. Now, let's take a look at the data."
   ]
  },
  {
   "cell_type": "code",
   "execution_count": null,
   "metadata": {
    "collapsed": false
   },
   "outputs": [],
   "source": [
    "data.head()"
   ]
  },
  {
   "cell_type": "markdown",
   "metadata": {},
   "source": [
    "So you can `8` different features labeled into the outcomes of `1` and `0` where `1` stands for the observation has diabetes, and `0` denotes the observation does not have diabetes. The dataset is known to have missing values. Specifically, there are missing observations for some columns that are marked as a zero value. We can corroborate this by the definition of those columns, and the domain knowledge that a zero value is invalid for those measures, e.g., `0` for body mass index or blood pressure is invalid.\n",
    "\n",
    "(Missing value creates a lot of problems when you try to build a machine learning model. In this case, you will use a Logistic Regression classifier for predicting the patients having diabetes or not. Now, Logistic Regression cannot handle the problems of missing values. )\n",
    "\n",
    "(If you want a quick refresher on Logistic Regression you can refer [here](https://www.analyticsvidhya.com/blog/2015/10/basics-logistic-regression/).)\n",
    "\n",
    "Let's get some statistics about the data with Pandas' `describe()` utility."
   ]
  },
  {
   "cell_type": "code",
   "execution_count": null,
   "metadata": {
    "collapsed": false
   },
   "outputs": [],
   "source": [
    "data.describe()"
   ]
  },
  {
   "cell_type": "markdown",
   "metadata": {},
   "source": [
    "This is useful.\n",
    "\n",
    "We can see that there are columns that have a minimum value of `0`. On some columns, a value of `0` does not make sense and indicates an invalid or missing value.\n",
    "\n",
    "Specifically, the following columns have an invalid zero minimum value:\n",
    "\n",
    "- Plasma glucose concentration (`Glucose`)\n",
    "- Diastolic blood pressure (`BloodPressure`)\n",
    "- Triceps skinfold thickness (`SkinThickness`)\n",
    "- 2-Hour serum insulin (`Insulin`)\n",
    "- Body mass index (`BMI`)\n",
    "\n",
    "Now you need to identify and mark values as missing. Let’s confirm this by looking at the raw data, the example prints the first `20` rows of data."
   ]
  },
  {
   "cell_type": "code",
   "execution_count": null,
   "metadata": {
    "collapsed": false
   },
   "outputs": [],
   "source": [
    "data.head(20)"
   ]
  },
  {
   "cell_type": "markdown",
   "metadata": {},
   "source": [
    "You can see 0 in several columns, right?\n",
    "\n",
    "You can get a count of the number of missing values in each of these columns. You can do this by marking all of the values in the subset of the DataFrame you are interested in that have zero values as True. You can then count the number of true values in each column. For this, you will have to reimport the data without the column names."
   ]
  },
  {
   "cell_type": "code",
   "execution_count": null,
   "metadata": {
    "collapsed": false
   },
   "outputs": [],
   "source": [
    "data = pd.read_csv(\"https://raw.githubusercontent.com/jbrownlee/Datasets/master/pima-indians-diabetes.data.csv\",header=None)\n",
    "print((data[[1,2,3,4,5]] == 0).sum())"
   ]
  },
  {
   "cell_type": "markdown",
   "metadata": {},
   "source": [
    "You can see that columns `1`,`2` and `5` have just a few `0` values, whereas columns `3` and `4` show a lot more, nearly half of the rows. Column `0` has several missing values although but that is natural. Column `8` denotes the target variable so, `0`s in it is natural.\n",
    "\n",
    "This highlights that different “missing value” strategies may be needed for different columns, e.g., to ensure that there are still a sufficient number of records left to train a predictive model.\n",
    "\n",
    "In Python, specifically `Pandas`, `NumPy` and `Scikit-Learn`, you should mark missing values as `NaN`.\n",
    "\n",
    "Values with a `NaN` value are ignored from operations like sum, count, etc.\n",
    "\n",
    "You can mark values as NaN easily with the Pandas DataFrame by using the replace() function on a subset of the columns you are interested in.\n",
    "\n",
    "After you have marked the missing values, you can use the `isnull()` function to mark all of the NaN values in the dataset as `True` and get a count of the missing values for each column."
   ]
  },
  {
   "cell_type": "code",
   "execution_count": null,
   "metadata": {
    "collapsed": false
   },
   "outputs": [],
   "source": [
    "# Mark zero values as missing or NaN\n",
    "data[[1,2,3,4,5]] = data[[1,2,3,4,5]].replace(0, np.NaN)\n",
    "# Count the number of NaN values in each column\n",
    "print(data.isnull().sum())"
   ]
  },
  {
   "cell_type": "markdown",
   "metadata": {},
   "source": [
    "You can see that the columns `1` to `5` have the same number of missing values as zero values identified above. This is a sign that you have marked the identified missing values correctly.\n",
    "\n",
    "This is a useful summary. But you'd like to look at the actual data though, to confirm that you have not fooled yourselves.\n",
    "\n",
    "Below is the same example, except you print the first `5` rows of data."
   ]
  },
  {
   "cell_type": "code",
   "execution_count": null,
   "metadata": {
    "collapsed": false
   },
   "outputs": [],
   "source": [
    "data.head()"
   ]
  },
  {
   "cell_type": "markdown",
   "metadata": {},
   "source": [
    "It is clear from the raw data that marking the missing values had the intended effect. Now, you will **impute** the missing values. Imputing refers to using a model to replace missing values. Although there are several solutions for imputing missing values, you will use mean imputation which means replacing the missing values in a column with the mean of that particular column. Let's do this with `Pandas`' `fillna()` method."
   ]
  },
  {
   "cell_type": "code",
   "execution_count": null,
   "metadata": {
    "collapsed": false
   },
   "outputs": [],
   "source": [
    "# Fill missing values with mean column values\n",
    "data.fillna(data.mean(), inplace=True)\n",
    "# Count the number of NaN values in each column\n",
    "print(data.isnull().sum())"
   ]
  },
  {
   "cell_type": "markdown",
   "metadata": {},
   "source": [
    "Cheers! You have now handled the missing value problem. Now let's use this data to build a Logistic Regression model using `scikit-learn`.\n",
    "\n",
    "First, you will see the model with some random hyperparameter values. Then you will build two other Logistic Regression models with two different strategies - **Grid search** and **Random search**."
   ]
  },
  {
   "cell_type": "code",
   "execution_count": null,
   "metadata": {
    "collapsed": true
   },
   "outputs": [],
   "source": [
    "# Split dataset into inputs and outputs\n",
    "values = data.values\n",
    "X = values[:,0:8]\n",
    "y = values[:,8]\n",
    "\n",
    "# Initiate the LR model with random hyperparameters\n",
    "lr = LogisticRegression(penalty='l1',dual=False,max_iter=110)"
   ]
  },
  {
   "cell_type": "markdown",
   "metadata": {},
   "source": [
    "You have created the Logistic Regression model with some random hyperparameter values. The hyperparameters that you used are:\n",
    "\n",
    "- `penalty`: Used to specify the norm used in the penalization ([regularization](https://towardsdatascience.com/regularization-in-machine-learning-76441ddcf99a)).\n",
    "- `dual`: Dual or primal formulation. The dual formulation is only implemented for l2 penalty with liblinear solver. Prefer dual=False when n_samples > n_features (when you have more observations than features).\n",
    "- `max_iter`: Maximum number of iterations taken to converge.\n",
    "\n",
    "Later in the case study, you will optimize/tune these hyperparameters so see the change in the results.\n",
    "\n",
    "__NOTE__: in this tutorial, our main purpose is to optimize hyperparameters - hence we did not split the data into training/testing. But you should always split your data. However later on we applied K-fold cross validation to ensure the model(s) is not overfitted."
   ]
  },
  {
   "cell_type": "code",
   "execution_count": null,
   "metadata": {
    "collapsed": false
   },
   "outputs": [],
   "source": [
    "# Pass data to the LR model\n",
    "lr.fit(X,y)"
   ]
  },
  {
   "cell_type": "markdown",
   "metadata": {},
   "source": [
    "It's time to check the __accuracy__ score."
   ]
  },
  {
   "cell_type": "code",
   "execution_count": null,
   "metadata": {
    "collapsed": false
   },
   "outputs": [],
   "source": [
    "lr.score(X,y)"
   ]
  },
  {
   "cell_type": "markdown",
   "metadata": {},
   "source": [
    "In the above step, you applied your LR model to the same data and evaluated its score. But there is always a need to validate the stability of your machine learning model. You just can’t fit the model to your training data and hope it would accurately work for the real data it has never seen before. You need some kind of assurance that your model has got most of the patterns from the data correct.\n",
    "\n",
    "Well, Cross-validation is there for rescue. I will not go into the details of it as it is out of the scope of this blog. But [this post](https://towardsdatascience.com/cross-validation-in-machine-learning-72924a69872f) does a very fine job."
   ]
  },
  {
   "cell_type": "code",
   "execution_count": null,
   "metadata": {
    "collapsed": true
   },
   "outputs": [],
   "source": [
    "# You will need the following dependencies for applying Cross-validation and evaluating the cross-validated score\n",
    "\n",
    "from sklearn.model_selection import KFold\n",
    "from sklearn.model_selection import cross_val_score\n",
    "\n",
    "# Build the k-fold cross-validator\n",
    "\n",
    "kfold = KFold(n_splits=3, random_state=2019)"
   ]
  },
  {
   "cell_type": "markdown",
   "metadata": {},
   "source": [
    "You supplied `n_splits` as `3`, which essentially makes it a 3-fold cross-validation.\n",
    "\n",
    "__NOTE__: this is because that you have a limited-sized dataset. \n",
    "\n",
    "You also supplied `random_state` as 2019. This is just to reproduce the results. You could have supplied any integer value as well. \n",
    "\n",
    "__NOTE__: you should always ensure the __reproducibility__ of your data analysis.\n",
    "\n",
    "Now, let's apply this."
   ]
  },
  {
   "cell_type": "code",
   "execution_count": null,
   "metadata": {
    "collapsed": false
   },
   "outputs": [],
   "source": [
    "result = cross_val_score(lr, X, y, cv=kfold, scoring='accuracy')\n",
    "print(result.mean())"
   ]
  },
  {
   "cell_type": "markdown",
   "metadata": {},
   "source": [
    "You can see there's a slight decrease in the score. This is because you are usng less (**66%**) of your data to train the model. Anyway, you can do better with hyperparameter tuning/optimization.\n",
    "\n",
    "Let's build another LR model, but this time its hyperparameter will be tuned. You will first do this grid search.\n",
    "\n",
    "Let's first import the dependencies you will need. Scikit-learn provides a utility called `GridSearchCV` for this."
   ]
  },
  {
   "cell_type": "code",
   "execution_count": null,
   "metadata": {
    "collapsed": true
   },
   "outputs": [],
   "source": [
    "from sklearn.model_selection import GridSearchCV"
   ]
  },
  {
   "cell_type": "markdown",
   "metadata": {},
   "source": [
    "Let's define the grid values of the hyperparameters that you used above."
   ]
  },
  {
   "cell_type": "code",
   "execution_count": null,
   "metadata": {
    "collapsed": true
   },
   "outputs": [],
   "source": [
    "dual=[True,False]\n",
    "max_iter=[100,110,120,130,140]\n",
    "param_grid = dict(dual=dual,max_iter=max_iter)"
   ]
  },
  {
   "cell_type": "markdown",
   "metadata": {},
   "source": [
    "You have defined the grid. Let's run the grid search over them and see the results with execution time."
   ]
  },
  {
   "cell_type": "code",
   "execution_count": null,
   "metadata": {
    "collapsed": false
   },
   "outputs": [],
   "source": [
    "import time\n",
    "\n",
    "lr = LogisticRegression(penalty='l2')\n",
    "grid = GridSearchCV(estimator=lr, param_grid=param_grid, cv = 3, n_jobs=-1)\n",
    "\n",
    "start_time = time.time()\n",
    "grid_result = grid.fit(X, y)\n",
    "# Summarize results\n",
    "print(\"Best: %f using %s\" % (grid_result.best_score_, grid_result.best_params_))\n",
    "print(\"Execution time: \" + str((time.time() - start_time)) + ' ms')"
   ]
  },
  {
   "cell_type": "markdown",
   "metadata": {},
   "source": [
    "Oh-no! The results decreased again! Does that mean we are totally off track? Rest assured, this only means that the current grid does not contain the optimal set.\n",
    "\n",
    "You can define a larger grid of hyperparameter as well and apply grid search."
   ]
  },
  {
   "cell_type": "code",
   "execution_count": null,
   "metadata": {
    "collapsed": true
   },
   "outputs": [],
   "source": [
    "dual=[True,False]\n",
    "max_iter=[100,110,120,130,140]\n",
    "C = [1.0,1.5,2.0,2.5]\n",
    "param_grid = dict(dual=dual,max_iter=max_iter,C=C)"
   ]
  },
  {
   "cell_type": "code",
   "execution_count": null,
   "metadata": {
    "collapsed": false
   },
   "outputs": [],
   "source": [
    "lr = LogisticRegression(penalty='l2')\n",
    "grid = GridSearchCV(estimator=lr, param_grid=param_grid, cv = 3, n_jobs=-1)\n",
    "\n",
    "start_time = time.time()\n",
    "grid_result = grid.fit(X, y)\n",
    "# Summarize results\n",
    "print(\"Best: %f using %s\" % (grid_result.best_score_, grid_result.best_params_))\n",
    "print(\"Execution time: \" + str((time.time() - start_time)) + ' ms')"
   ]
  },
  {
   "cell_type": "markdown",
   "metadata": {},
   "source": [
    "You can see an increase in the accuracy score, but there is a sufficient amount of growth in the execution time as well. **The larger the grid, the more execution time**.\n",
    "\n",
    "Let's rerun everything but this time with the random search. Scikit-learn provides `RandomSearchCV` to do that. As usual, you will have to import the necessary dependencies for that."
   ]
  },
  {
   "cell_type": "code",
   "execution_count": null,
   "metadata": {
    "collapsed": true
   },
   "outputs": [],
   "source": [
    "from sklearn.model_selection import RandomizedSearchCV"
   ]
  },
  {
   "cell_type": "code",
   "execution_count": null,
   "metadata": {
    "collapsed": false
   },
   "outputs": [],
   "source": [
    "random = RandomizedSearchCV(estimator=lr, param_distributions=param_grid, cv = 3, n_jobs=-1)\n",
    "\n",
    "start_time = time.time()\n",
    "random_result = random.fit(X, y)\n",
    "# Summarize results\n",
    "print(\"Best: %f using %s\" % (random_result.best_score_, random_result.best_params_))\n",
    "print(\"Execution time: \" + str((time.time() - start_time)) + ' ms')"
   ]
  },
  {
   "cell_type": "markdown",
   "metadata": {},
   "source": [
    "Woah! The random search yielded the same accuracy but in a much lesser time.\n",
    "\n",
    "#### YOUR TURN HERE\n",
    "Please check the [docs](https://scikit-learn.org/stable/modules/generated/sklearn.model_selection.RandomizedSearchCV.html) for `RandomSearchCV`, for the purpose of understanding why we set `n_jobs` to `-1`.\n",
    "\n",
    "Also, please list any other random search parameters that you found interesting in the docs."
   ]
  },
  {
   "cell_type": "markdown",
   "metadata": {},
   "source": [
    "Double click and type your answer here."
   ]
  },
  {
   "cell_type": "markdown",
   "metadata": {},
   "source": [
    "That is all for the case study part. Now, let's wrap things up!\n",
    "\n",
    "## Conclusion and further reading:\n",
    "In this tutorial, you learned about parameters and hyperparameters of a machine learning model and their differences as well. You also got to know about what role hyperparameter optimization plays in building efficient machine learning models. You built a simple Logistic Regression classifier in Python with the help of scikit-learn.\n",
    "\n",
    "You tuned the hyperparameters with grid search and random search and saw which one performs better.\n",
    "\n",
    "Besides, you saw small data preprocessing steps (like handling missing values) that are required before you feed your data into the machine learning model. You covered Cross-validation as well.\n",
    "\n",
    "That is a lot to take in, and all of them are equally important in your data science journey. I will leave you with some further readings that you can do.\n",
    "\n",
    "Further readings:\n",
    "\n",
    "- [Problems in hyperparameter optimization](https://blog.sigopt.com/posts/common-problems-in-hyperparameter-optimization)\n",
    "- [Hyperparameter optimization with soft computing techniques](https://papers.nips.cc/paper/4443-algorithms-for-hyper-parameter-optimization.pdf)\n",
    "- [Random Search for Hyper-Parameter Optimization](http://www.jmlr.org/papers/volume13/bergstra12a/bergstra12a.pdf)\n",
    "\n",
    "For the ones who are a bit more advanced, I would highly recommend reading this paper for effectively [optimizing the hyperparameters of neural networks](https://arxiv.org/abs/1803.09820)."
   ]
  },
  {
   "cell_type": "code",
   "execution_count": null,
   "metadata": {
    "collapsed": true
   },
   "outputs": [],
   "source": []
  }
 ],
 "metadata": {
  "kernelspec": {
   "display_name": "Python 3",
   "language": "python",
   "name": "python3"
  },
  "language_info": {
   "codemirror_mode": {
    "name": "ipython",
    "version": 3
   },
   "file_extension": ".py",
   "mimetype": "text/x-python",
   "name": "python",
   "nbconvert_exporter": "python",
   "pygments_lexer": "ipython3",
   "version": "3.4.3"
  }
 },
 "nbformat": 4,
 "nbformat_minor": 2
}
